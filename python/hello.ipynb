{
 "cells": [
  {
   "cell_type": "markdown",
   "id": "11294331-1db9-47d8-a3ec-4b6a50d71d63",
   "metadata": {},
   "source": [
    "according to the given the survey, this paddy field belongs to"
   ]
  },
  {
   "cell_type": "code",
   "execution_count": 4,
   "id": "198f7faa-04cf-4bdd-9f1b-abd99af34998",
   "metadata": {},
   "outputs": [
    {
     "name": "stdout",
     "output_type": "stream",
     "text": [
      "Mr. Naidu\n"
     ]
    }
   ],
   "source": [
    "print(\"Mr. Naidu\")"
   ]
  },
  {
   "cell_type": "code",
   "execution_count": null,
   "id": "2be4ce83-a896-4ace-a987-fe2cbb989d20",
   "metadata": {},
   "outputs": [],
   "source": []
  }
 ],
 "metadata": {
  "kernelspec": {
   "display_name": "Python 3",
   "language": "python",
   "name": "python3"
  },
  "language_info": {
   "codemirror_mode": {
    "name": "ipython",
    "version": 3
   },
   "file_extension": ".py",
   "mimetype": "text/x-python",
   "name": "python",
   "nbconvert_exporter": "python",
   "pygments_lexer": "ipython3",
   "version": "3.13.0"
  }
 },
 "nbformat": 4,
 "nbformat_minor": 5
}
